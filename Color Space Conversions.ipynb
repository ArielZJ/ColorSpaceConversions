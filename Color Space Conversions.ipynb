{
 "cells": [
  {
   "cell_type": "code",
   "execution_count": 32,
   "metadata": {},
   "outputs": [],
   "source": [
    "import psychopy.tools.colorspacetools as psy\n",
    "import matplotlib"
   ]
  },
  {
   "cell_type": "markdown",
   "metadata": {},
   "source": [
    "Going to pick 9 equal hues as our colours from HSV space, convert them to RGB values for Inquisit"
   ]
  },
  {
   "cell_type": "code",
   "execution_count": 35,
   "metadata": {},
   "outputs": [],
   "source": [
    "def choosecolours(colourlist,num,saturation=1,value=1):\n",
    "    for i in range(num):\n",
    "        colourlist.append([(i*360/num),saturation,value])\n",
    "    return colourlist\n",
    "    "
   ]
  },
  {
   "cell_type": "code",
   "execution_count": 36,
   "metadata": {},
   "outputs": [
    {
     "data": {
      "text/plain": [
       "[[0.0, 1, 1],\n",
       " [40.0, 1, 1],\n",
       " [80.0, 1, 1],\n",
       " [120.0, 1, 1],\n",
       " [160.0, 1, 1],\n",
       " [200.0, 1, 1],\n",
       " [240.0, 1, 1],\n",
       " [280.0, 1, 1],\n",
       " [320.0, 1, 1]]"
      ]
     },
     "execution_count": 36,
     "metadata": {},
     "output_type": "execute_result"
    }
   ],
   "source": [
    "colourlist_hsv = []\n",
    "choosecolours(colourlist_hsv,9)"
   ]
  },
  {
   "cell_type": "markdown",
   "metadata": {},
   "source": [
    "Got our hues, going to just set saturation and brightness to 100% for <br>\n",
    "Want to convert from HSV to RGB"
   ]
  },
  {
   "cell_type": "code",
   "execution_count": 16,
   "metadata": {},
   "outputs": [
    {
     "data": {
      "text/plain": [
       "array([[ 1.        , -1.        , -1.        ],\n",
       "       [ 1.        ,  0.33333333, -1.        ],\n",
       "       [ 0.33333333,  1.        , -1.        ],\n",
       "       [-1.        ,  1.        , -1.        ],\n",
       "       [-1.        ,  1.        ,  0.33333333],\n",
       "       [-1.        ,  0.33333333,  1.        ],\n",
       "       [-1.        , -1.        ,  1.        ],\n",
       "       [ 0.33333333, -1.        ,  1.        ],\n",
       "       [ 1.        , -1.        ,  0.33333333]])"
      ]
     },
     "execution_count": 16,
     "metadata": {},
     "output_type": "execute_result"
    }
   ],
   "source": [
    "colourlist_rgb = psy.hsv2rgb(colourlist_hsv)\n",
    "colourlist_rgb"
   ]
  },
  {
   "cell_type": "markdown",
   "metadata": {},
   "source": [
    "Change this into RGB values from [0:255]"
   ]
  },
  {
   "cell_type": "code",
   "execution_count": 17,
   "metadata": {},
   "outputs": [],
   "source": [
    "colourlist_rgb_corrected = []\n",
    "for colour in colourlist_rgb:\n",
    "    val3 = []\n",
    "    for val in colour:\n",
    "        val3.append(int((val+1)*255/2))\n",
    "    colourlist_rgb_corrected.append(val3)"
   ]
  },
  {
   "cell_type": "code",
   "execution_count": 18,
   "metadata": {},
   "outputs": [
    {
     "data": {
      "text/plain": [
       "[[255, 0, 0],\n",
       " [255, 170, 0],\n",
       " [170, 255, 0],\n",
       " [0, 255, 0],\n",
       " [0, 255, 169],\n",
       " [0, 169, 255],\n",
       " [0, 0, 255],\n",
       " [170, 0, 255],\n",
       " [255, 0, 170]]"
      ]
     },
     "execution_count": 18,
     "metadata": {},
     "output_type": "execute_result"
    }
   ],
   "source": [
    "colourlist_rgb_corrected"
   ]
  },
  {
   "cell_type": "code",
   "execution_count": 19,
   "metadata": {},
   "outputs": [],
   "source": [
    "# also make a hex list\n",
    "colourlist_hex = []\n",
    "for colour in colourlist_rgb_corrected:\n",
    "    temp = [x / 255 for x in colour]\n",
    "    colourlist_hex.append(matplotlib.colors.to_hex(temp))"
   ]
  },
  {
   "cell_type": "code",
   "execution_count": 20,
   "metadata": {},
   "outputs": [
    {
     "data": {
      "text/plain": [
       "['#ff0000',\n",
       " '#ffaa00',\n",
       " '#aaff00',\n",
       " '#00ff00',\n",
       " '#00ffa9',\n",
       " '#00a9ff',\n",
       " '#0000ff',\n",
       " '#aa00ff',\n",
       " '#ff00aa']"
      ]
     },
     "execution_count": 20,
     "metadata": {},
     "output_type": "execute_result"
    }
   ],
   "source": [
    "colourlist_hex"
   ]
  },
  {
   "cell_type": "markdown",
   "metadata": {
    "collapsed": true
   },
   "source": [
    "Updated for Chuyin - reducing saturation"
   ]
  },
  {
   "cell_type": "code",
   "execution_count": 37,
   "metadata": {},
   "outputs": [],
   "source": [
    "desaturated_colourlist_hsv = []\n",
    "choosecolours(desaturated_colourlist_hsv,9,saturation=0.5,value=1)\n",
    "desaturated_colourlist_rgb = psy.hsv2rgb(desaturated_colourlist_hsv)\n",
    "desaturated_colourlist_rgb_corrected = []\n",
    "for colour in desaturated_colourlist_rgb:\n",
    "    val3 = []\n",
    "    for val in colour:\n",
    "        val3.append(int((val+1)*255/2))\n",
    "    desaturated_colourlist_rgb_corrected.append(val3)\n",
    "# also make a hex list\n",
    "desaturated_colourlist_hex = []\n",
    "for colour in desaturated_colourlist_rgb_corrected:\n",
    "    temp = [x / 255 for x in colour]\n",
    "    desaturated_colourlist_hex.append(matplotlib.colors.to_hex(temp))"
   ]
  },
  {
   "cell_type": "code",
   "execution_count": 38,
   "metadata": {},
   "outputs": [
    {
     "data": {
      "text/plain": [
       "['#ff7f7f',\n",
       " '#ffd47f',\n",
       " '#d4ff7f',\n",
       " '#7fff7f',\n",
       " '#7fffd4',\n",
       " '#7fd4ff',\n",
       " '#7f7fff',\n",
       " '#d47fff',\n",
       " '#ff7fd4']"
      ]
     },
     "execution_count": 38,
     "metadata": {},
     "output_type": "execute_result"
    }
   ],
   "source": [
    "desaturated_colourlist_hex"
   ]
  },
  {
   "cell_type": "code",
   "execution_count": null,
   "metadata": {},
   "outputs": [],
   "source": []
  }
 ],
 "metadata": {
  "kernelspec": {
   "display_name": "Python 3",
   "language": "python",
   "name": "python3"
  },
  "language_info": {
   "codemirror_mode": {
    "name": "ipython",
    "version": 3
   },
   "file_extension": ".py",
   "mimetype": "text/x-python",
   "name": "python",
   "nbconvert_exporter": "python",
   "pygments_lexer": "ipython3",
   "version": "3.7.6"
  }
 },
 "nbformat": 4,
 "nbformat_minor": 2
}
